{
 "cells": [
  {
   "cell_type": "markdown",
   "metadata": {},
   "source": [
    "# Setup the environment"
   ]
  },
  {
   "cell_type": "markdown",
   "metadata": {},
   "source": [
    "## (Optional) setup and activate new Conda environment"
   ]
  },
  {
   "cell_type": "code",
   "execution_count": null,
   "metadata": {},
   "outputs": [],
   "source": [
    "# %conda create --name MultiRound-RAG python=3.11\n",
    "# %conda activate MultiRound-RAG"
   ]
  },
  {
   "cell_type": "markdown",
   "metadata": {},
   "source": [
    "## Install openJDK21 (for pygaggle)"
   ]
  },
  {
   "cell_type": "code",
   "execution_count": null,
   "metadata": {},
   "outputs": [
    {
     "name": "stdout",
     "output_type": "stream",
     "text": [
      "W: Skipping acquire of configured file 'main/source/Sources' as repository 'https://r2u.stat.illinois.edu/ubuntu jammy InRelease' does not seem to provide it (sources.list entry misspelt?)\n",
      "openjdk version \"21.0.4\" 2024-07-16\n",
      "OpenJDK Runtime Environment (build 21.0.4+7-Ubuntu-1ubuntu222.04)\n",
      "OpenJDK 64-Bit Server VM (build 21.0.4+7-Ubuntu-1ubuntu222.04, mixed mode, sharing)\n"
     ]
    }
   ],
   "source": [
    "%apt-get update -qq\n",
    "%apt-get install openjdk-21-jdk-headless -qq > /dev/null\n",
    "%update-alternatives --set java /usr/lib/jvm/java-21-openjdk-amd64/bin/java\n",
    "%java -version"
   ]
  },
  {
   "cell_type": "markdown",
   "metadata": {},
   "source": [
    "## Installing requirements (w/o pygaggle)"
   ]
  },
  {
   "cell_type": "code",
   "execution_count": null,
   "metadata": {},
   "outputs": [
    {
     "name": "stdout",
     "output_type": "stream",
     "text": [
      "\u001b[?25l   \u001b[90m━━━━━━━━━━━━━━━━━━━━━━━━━━━━━━━━━━━━━━━━\u001b[0m \u001b[32m0.0/55.4 kB\u001b[0m \u001b[31m?\u001b[0m eta \u001b[36m-:--:--\u001b[0m\r\u001b[2K   \u001b[90m━━━━━━━━━━━━━━━━━━━━━━━━━━━━━━━━━━━━━━━━\u001b[0m \u001b[32m55.4/55.4 kB\u001b[0m \u001b[31m4.0 MB/s\u001b[0m eta \u001b[36m0:00:00\u001b[0m\n",
      "\u001b[?25h\u001b[?25l   \u001b[90m━━━━━━━━━━━━━━━━━━━━━━━━━━━━━━━━━━━━━━━━\u001b[0m \u001b[32m0.0/327.6 kB\u001b[0m \u001b[31m?\u001b[0m eta \u001b[36m-:--:--\u001b[0m\r\u001b[2K   \u001b[90m━━━━━━━━━━━━━━━━━━━━━━━━━━━━━━━━━━━━━━━━\u001b[0m \u001b[32m327.6/327.6 kB\u001b[0m \u001b[31m22.3 MB/s\u001b[0m eta \u001b[36m0:00:00\u001b[0m\n",
      "\u001b[?25h"
     ]
    }
   ],
   "source": [
    "# Installing required libraries\n",
    "%pip install -r requirements.txt --quiet --default-timeout=100 --upgrade"
   ]
  },
  {
   "cell_type": "markdown",
   "metadata": {},
   "source": [
    "## Installing pygaggle"
   ]
  },
  {
   "cell_type": "code",
   "execution_count": null,
   "metadata": {},
   "outputs": [
    {
     "name": "stdout",
     "output_type": "stream",
     "text": [
      "Cloning into 'pygaggle'...\n",
      "remote: Enumerating objects: 1568, done.\u001b[K\n",
      "remote: Counting objects: 100% (641/641), done.\u001b[K\n",
      "remote: Compressing objects: 100% (219/219), done.\u001b[K\n",
      "remote: Total 1568 (delta 539), reused 463 (delta 422), pack-reused 927 (from 1)\u001b[K\n",
      "Receiving objects: 100% (1568/1568), 510.65 KiB | 22.20 MiB/s, done.\n",
      "Resolving deltas: 100% (1012/1012), done.\n",
      "Submodule 'tools' (https://github.com/castorini/anserini-tools.git) registered for path 'tools'\n",
      "Cloning into '/content/pygaggle/tools'...\n",
      "remote: Enumerating objects: 995, done.        \n",
      "remote: Counting objects: 100% (752/752), done.        \n",
      "remote: Compressing objects: 100% (634/634), done.        \n",
      "remote: Total 995 (delta 143), reused 718 (delta 117), pack-reused 243 (from 1)        \n",
      "Receiving objects: 100% (995/995), 643.39 MiB | 16.86 MiB/s, done.\n",
      "Resolving deltas: 100% (227/227), done.\n",
      "Submodule path 'tools': checked out '808f48711b5e172da6aec8b1855518c8ea65489f'\n"
     ]
    }
   ],
   "source": [
    "%git clone --recursive https://github.com/castorini/pygaggle.git"
   ]
  },
  {
   "cell_type": "code",
   "execution_count": null,
   "metadata": {},
   "outputs": [],
   "source": [
    "modified_requirements = \"\"\"\n",
    "# Your modified requirements go here\n",
    "coloredlogs==14.0\n",
    "dataclasses;python_version<\"3.7\"\n",
    "numpy\n",
    "pydantic\n",
    "pyserini==0.23.0\n",
    "scikit-learn\n",
    "scipy\n",
    "spacy>=3.2.1\n",
    "tensorboard>=2.12.2\n",
    "tensorflow\n",
    "tokenizers\n",
    "tqdm\n",
    "transformers\n",
    "sentencepiece\n",
    "sentence_transformers\n",
    "torch>=1.8.1\n",
    "faiss-cpu\n",
    "\"\"\"\n",
    "\n",
    "with open(\"pygaggle/requirements.txt\", \"w\") as f:\n",
    "    f.write(modified_requirements)"
   ]
  },
  {
   "cell_type": "code",
   "execution_count": null,
   "metadata": {},
   "outputs": [
    {
     "name": "stdout",
     "output_type": "stream",
     "text": [
      "  Preparing metadata (setup.py) ... \u001b[?25l\u001b[?25hdone\n",
      "  Building wheel for pygaggle (setup.py) ... \u001b[?25l\u001b[?25hdone\n"
     ]
    }
   ],
   "source": [
    "%pip install pygaggle/ --quiet\n",
    "%rm -rf pygaggle # Deletes the pygaggle library after installation"
   ]
  }
 ],
 "metadata": {
  "language_info": {
   "name": "python"
  }
 },
 "nbformat": 4,
 "nbformat_minor": 2
}
